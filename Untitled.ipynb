{
 "cells": [
  {
   "cell_type": "code",
   "execution_count": 2,
   "metadata": {},
   "outputs": [],
   "source": [
    "# -*- coding: utf-8 -*-\n",
    "\"\"\"\n",
    "Created on Mon Dec  6 17:37:22 2021\n",
    "\n",
    "@author: marle\n",
    "\"\"\"\n",
    "\n",
    "import pandas as pd\n",
    "import os\n",
    "import PyPDF2 \n",
    "import spacy\n",
    "import itertools\n",
    "import pandas as pd\n",
    "from statistics import mean\n",
    "import string as str\n",
    "import numpy as np\n",
    "from spacymoji import Emoji\n",
    "\n",
    "path = r\"C:\\Users\\marle\\Downloads\"\n",
    "\n",
    "def open_csvs(fname, path):\n",
    "    df = pd.read_csv(os.path.join(path, fname))\n",
    "    return df\n",
    "\n",
    "\n",
    "fname = \"csv\"\n",
    "\n",
    "list_of_fnames = []\n",
    "\n",
    "for i in range(1,16):\n",
    "    list_of_fnames.append(fname + f\" ({i})\")\n",
    "\n",
    "\n",
    "list_of_fnames.append(fname)    \n",
    "list_of_fnames = [fname + \".csv\" for fname in list_of_fnames]\n",
    "\n",
    "\n",
    "list_of_dfs = [open_csvs(fname, path = path) for fname in list_of_fnames]\n",
    "\n",
    "dfs_not_scrapable = [list_of_dfs[3], list_of_dfs[7]]\n",
    "\n",
    "not_scrapable_posts = pd.concat(dfs_not_scrapable)\n",
    "\n",
    "list_of_dfs.pop(3)\n",
    "\n",
    "list_of_dfs.pop(6)\n",
    "\n",
    "list_of_dfs = [df.to_dict() for df in list_of_dfs]\n",
    "nlp = spacy.load(\"en_core_web_sm\")\n",
    "emoji = Emoji(nlp)\n",
    "nlp.add_pipe(\"emoji\", first=True)\n",
    "comments = [{k:v for k,v in columns.items() if 'comment' in k} for columns in list_of_dfs]\n",
    "comments = [[v for k,v in comment.items()] for comment in comments]\n",
    "comments = [comments[0] for comments in comments]\n",
    "#comments = [list(v) for comments.items() in comments]\n",
    "# query_urls = pd.concat(list_of_query_urls)\n",
    "\n",
    "# query_urls = query_urls.reset_index(drop=False)\n",
    "\n",
    "import string as str\n",
    "\n"
   ]
  },
  {
   "cell_type": "code",
   "execution_count": 4,
   "metadata": {},
   "outputs": [
    {
     "ename": "SyntaxError",
     "evalue": "invalid syntax (<ipython-input-4-37a523846b6d>, line 1)",
     "output_type": "error",
     "traceback": [
      "\u001b[1;36m  File \u001b[1;32m\"<ipython-input-4-37a523846b6d>\"\u001b[1;36m, line \u001b[1;32m1\u001b[0m\n\u001b[1;33m    comments = [list(v) for comments.items() for comments in comments]\u001b[0m\n\u001b[1;37m                                             ^\u001b[0m\n\u001b[1;31mSyntaxError\u001b[0m\u001b[1;31m:\u001b[0m invalid syntax\n"
     ]
    }
   ],
   "source": [
    "comments = [list(v) for comments.items() for comments in comments]"
   ]
  },
  {
   "cell_type": "code",
   "execution_count": null,
   "metadata": {},
   "outputs": [],
   "source": [
    "\n",
    "comments = [{[nlp(comment) for comment in k] for k, v in comments.items()} for comments in comments]\n",
    "comments = [[list(doc) for doc in docs] for docs in comments]"
   ]
  }
 ],
 "metadata": {
  "kernelspec": {
   "display_name": "Python 3",
   "language": "python",
   "name": "python3"
  },
  "language_info": {
   "codemirror_mode": {
    "name": "ipython",
    "version": 3
   },
   "file_extension": ".py",
   "mimetype": "text/x-python",
   "name": "python",
   "nbconvert_exporter": "python",
   "pygments_lexer": "ipython3",
   "version": "3.8.5"
  }
 },
 "nbformat": 4,
 "nbformat_minor": 4
}
